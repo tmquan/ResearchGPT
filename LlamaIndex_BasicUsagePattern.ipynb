{
 "cells": [
  {
   "cell_type": "code",
   "execution_count": 1,
   "metadata": {},
   "outputs": [],
   "source": [
    "# from llama_index import SimpleDirectoryReader\n",
    "# documents = SimpleDirectoryReader('./data/medical/mgh/txt/').load_data()\n",
    "# documents"
   ]
  },
  {
   "cell_type": "code",
   "execution_count": 2,
   "metadata": {},
   "outputs": [
    {
     "data": {
      "text/plain": [
       "[Document(id_='c3cd9699-5c62-4ba6-a3ad-5f55d9605758', embedding=None, metadata={}, excluded_embed_metadata_keys=[], excluded_llm_metadata_keys=[], relationships={}, hash='5fe346b9780d9cb3c02ddb10c534617cab0597f7eedc7a0d4849c339a1fe0ef6', text='./data/medical/mgh/txt/1.txt', start_char_idx=None, end_char_idx=None, text_template='{metadata_str}\\n\\n{content}', metadata_template='{key}: {value}', metadata_seperator='\\n'),\n",
       " Document(id_='feb7470a-b2cf-4164-8cf1-0e4e01e2426c', embedding=None, metadata={}, excluded_embed_metadata_keys=[], excluded_llm_metadata_keys=[], relationships={}, hash='108ef16facf92f3597f455d5d0a06280d6111cff300f3f3fcbd1cf8a57997619', text='./data/medical/mgh/txt/2.txt', start_char_idx=None, end_char_idx=None, text_template='{metadata_str}\\n\\n{content}', metadata_template='{key}: {value}', metadata_seperator='\\n'),\n",
       " Document(id_='fff5fbfa-b7ba-4cfa-8462-e28b75dd76b7', embedding=None, metadata={}, excluded_embed_metadata_keys=[], excluded_llm_metadata_keys=[], relationships={}, hash='b9ca1a5d8fdafb6be229f8c0fc1eeb920655e0ceab7b9b13a2d9b7563ece75fa', text='./data/medical/mgh/txt/3.txt', start_char_idx=None, end_char_idx=None, text_template='{metadata_str}\\n\\n{content}', metadata_template='{key}: {value}', metadata_seperator='\\n'),\n",
       " Document(id_='00ad8b62-1c4b-4638-92bd-a7b088fb39c9', embedding=None, metadata={}, excluded_embed_metadata_keys=[], excluded_llm_metadata_keys=[], relationships={}, hash='ec48a541695a5fbf0f0f2fc2cda7ffce226c92d09bee5e2bf24d4a56f9332178', text='./data/medical/mgh/txt/4.txt', start_char_idx=None, end_char_idx=None, text_template='{metadata_str}\\n\\n{content}', metadata_template='{key}: {value}', metadata_seperator='\\n'),\n",
       " Document(id_='12b4c088-f267-4d3d-b3e1-3835da9479ed', embedding=None, metadata={}, excluded_embed_metadata_keys=[], excluded_llm_metadata_keys=[], relationships={}, hash='297a264229d5cdeda9b57b2744db874d538cd08cb48f2bea30884eb3df693068', text='./data/medical/mgh/txt/5.txt', start_char_idx=None, end_char_idx=None, text_template='{metadata_str}\\n\\n{content}', metadata_template='{key}: {value}', metadata_seperator='\\n'),\n",
       " Document(id_='6ff31e19-58d5-4946-bc9b-1e4a2a14e61b', embedding=None, metadata={}, excluded_embed_metadata_keys=[], excluded_llm_metadata_keys=[], relationships={}, hash='5fc1d46934b48c213426172db12e72f03437434327010092f4b3df30d3018192', text='./data/medical/mgh/txt/6.txt', start_char_idx=None, end_char_idx=None, text_template='{metadata_str}\\n\\n{content}', metadata_template='{key}: {value}', metadata_seperator='\\n'),\n",
       " Document(id_='c5f1ef42-e60e-4dd0-b5d8-2f9be8bf9aeb', embedding=None, metadata={}, excluded_embed_metadata_keys=[], excluded_llm_metadata_keys=[], relationships={}, hash='e02966b1c3fe8227204c067015588423df9dd0bf2d9b2eab9d617b9c783791ea', text='./data/medical/mgh/txt/7.txt', start_char_idx=None, end_char_idx=None, text_template='{metadata_str}\\n\\n{content}', metadata_template='{key}: {value}', metadata_seperator='\\n'),\n",
       " Document(id_='b4bd0239-9e79-4e92-b408-6114875c4bb1', embedding=None, metadata={}, excluded_embed_metadata_keys=[], excluded_llm_metadata_keys=[], relationships={}, hash='0773ee5f5f0e114a0d920cd4f8c722d206ee90b064c5b3a3e62f58cfa9993e31', text='./data/medical/mgh/txt/8.txt', start_char_idx=None, end_char_idx=None, text_template='{metadata_str}\\n\\n{content}', metadata_template='{key}: {value}', metadata_seperator='\\n'),\n",
       " Document(id_='ba55ed86-d3e9-4646-b513-eb1e75346248', embedding=None, metadata={}, excluded_embed_metadata_keys=[], excluded_llm_metadata_keys=[], relationships={}, hash='c04d7035c14f5ca2080fd11aeb40118c6a175c46c6cebafd176e59aa00427643', text='./data/medical/mgh/txt/9.txt', start_char_idx=None, end_char_idx=None, text_template='{metadata_str}\\n\\n{content}', metadata_template='{key}: {value}', metadata_seperator='\\n'),\n",
       " Document(id_='91f1936f-d3d2-42da-ba49-5adc7d5cddee', embedding=None, metadata={}, excluded_embed_metadata_keys=[], excluded_llm_metadata_keys=[], relationships={}, hash='894bd31cee62fdd11d02089cb82e1f5e19c037b4e49e1466a22dcf584811b089', text='./data/medical/mgh/txt/10.txt', start_char_idx=None, end_char_idx=None, text_template='{metadata_str}\\n\\n{content}', metadata_template='{key}: {value}', metadata_seperator='\\n'),\n",
       " Document(id_='f47eade0-757b-4453-9cb3-f0bf53ceef72', embedding=None, metadata={}, excluded_embed_metadata_keys=[], excluded_llm_metadata_keys=[], relationships={}, hash='d5248a9b34ca01913f0925927eb596d6f754f805a0ee17e2debf35ea24dc34a7', text='./data/medical/mgh/txt/11.txt', start_char_idx=None, end_char_idx=None, text_template='{metadata_str}\\n\\n{content}', metadata_template='{key}: {value}', metadata_seperator='\\n'),\n",
       " Document(id_='2df963a2-7ade-4d25-beb3-b83e1099c5a1', embedding=None, metadata={}, excluded_embed_metadata_keys=[], excluded_llm_metadata_keys=[], relationships={}, hash='9ecfcb20681f2b13698ec9ca89574f75c101990dc4d7589c2e050537f7101be1', text='./data/medical/mgh/txt/12.txt', start_char_idx=None, end_char_idx=None, text_template='{metadata_str}\\n\\n{content}', metadata_template='{key}: {value}', metadata_seperator='\\n'),\n",
       " Document(id_='b65d60b3-a33c-42a4-ad63-fbd14b3ec9f4', embedding=None, metadata={}, excluded_embed_metadata_keys=[], excluded_llm_metadata_keys=[], relationships={}, hash='d8abd938aafee4ebcaf0412438a5302b7a376ec6881ffa6ca909634e4ffac71b', text='./data/medical/mgh/txt/13.txt', start_char_idx=None, end_char_idx=None, text_template='{metadata_str}\\n\\n{content}', metadata_template='{key}: {value}', metadata_seperator='\\n'),\n",
       " Document(id_='c754abc2-17af-41fc-b89a-11dd746cde09', embedding=None, metadata={}, excluded_embed_metadata_keys=[], excluded_llm_metadata_keys=[], relationships={}, hash='5f8f982e22a67124ac5999329b0337c8885baa96ce07d2775b6e9373f36d745b', text='./data/medical/mgh/txt/14.txt', start_char_idx=None, end_char_idx=None, text_template='{metadata_str}\\n\\n{content}', metadata_template='{key}: {value}', metadata_seperator='\\n'),\n",
       " Document(id_='bb9a7b71-ff45-4992-ad0d-97725e9bb32d', embedding=None, metadata={}, excluded_embed_metadata_keys=[], excluded_llm_metadata_keys=[], relationships={}, hash='cf2005912554d24d48617288163b8d801e34ffbdc01266cfcf5252a89de9a983', text='./data/medical/mgh/txt/15.txt', start_char_idx=None, end_char_idx=None, text_template='{metadata_str}\\n\\n{content}', metadata_template='{key}: {value}', metadata_seperator='\\n'),\n",
       " Document(id_='246308f1-1714-4a12-9d76-8623602d2d75', embedding=None, metadata={}, excluded_embed_metadata_keys=[], excluded_llm_metadata_keys=[], relationships={}, hash='4c91c2e25cd3fe860a787be0efdc2c4b0e41e7bb47290263f7dd97d733fe28c0', text='./data/medical/mgh/txt/16.txt', start_char_idx=None, end_char_idx=None, text_template='{metadata_str}\\n\\n{content}', metadata_template='{key}: {value}', metadata_seperator='\\n'),\n",
       " Document(id_='fddc9a48-3cd7-44fb-add5-44979268fcb2', embedding=None, metadata={}, excluded_embed_metadata_keys=[], excluded_llm_metadata_keys=[], relationships={}, hash='edfdc4669f19da680a4c8b749a4b2e1bea7a9b9847895227e6f10a48b809e3c9', text='./data/medical/mgh/txt/17.txt', start_char_idx=None, end_char_idx=None, text_template='{metadata_str}\\n\\n{content}', metadata_template='{key}: {value}', metadata_seperator='\\n'),\n",
       " Document(id_='60b99095-471f-4b59-a04f-ae785a9f1f36', embedding=None, metadata={}, excluded_embed_metadata_keys=[], excluded_llm_metadata_keys=[], relationships={}, hash='599ba5316cf609d1063218da97f9216959a3c13bf13479b24b06a13058b79d20', text='./data/medical/mgh/txt/18.txt', start_char_idx=None, end_char_idx=None, text_template='{metadata_str}\\n\\n{content}', metadata_template='{key}: {value}', metadata_seperator='\\n'),\n",
       " Document(id_='daaee35e-65ed-450d-a097-a9f896a22957', embedding=None, metadata={}, excluded_embed_metadata_keys=[], excluded_llm_metadata_keys=[], relationships={}, hash='48edd3cb8599199243a7d4125e1bd3bdfd627cfea01bffa293cee9007c72d180', text='./data/medical/mgh/txt/19.txt', start_char_idx=None, end_char_idx=None, text_template='{metadata_str}\\n\\n{content}', metadata_template='{key}: {value}', metadata_seperator='\\n'),\n",
       " Document(id_='e28f20b3-7b7d-4219-9e89-5e8e70c68573', embedding=None, metadata={}, excluded_embed_metadata_keys=[], excluded_llm_metadata_keys=[], relationships={}, hash='7880ef079a471cf8c2bbd0d6fbd5b547a58d1de00373e62d1e74948cc03edb6f', text='./data/medical/mgh/txt/20.txt', start_char_idx=None, end_char_idx=None, text_template='{metadata_str}\\n\\n{content}', metadata_template='{key}: {value}', metadata_seperator='\\n')]"
      ]
     },
     "execution_count": 2,
     "metadata": {},
     "output_type": "execute_result"
    }
   ],
   "source": [
    "import os\n",
    "import glob\n",
    "from natsort import natsorted\n",
    "from llama_index import Document\n",
    "from llama_index.node_parser import SimpleNodeParser\n",
    "from llama_index import VectorStoreIndex\n",
    "from llama_index import StorageContext\n",
    "\n",
    "text_list = natsorted(glob.glob(os.path.join('./data/medical/mgh/txt/', '*.txt')))\n",
    "documents = [Document(text=t) for t in text_list]\n",
    "documents"
   ]
  },
  {
   "cell_type": "code",
   "execution_count": 3,
   "metadata": {},
   "outputs": [
    {
     "data": {
      "text/plain": [
       "[TextNode(id_='d7537567-913c-4915-8112-cefcbb1edad5', embedding=None, metadata={}, excluded_embed_metadata_keys=[], excluded_llm_metadata_keys=[], relationships={<NodeRelationship.SOURCE: '1'>: RelatedNodeInfo(node_id='c3cd9699-5c62-4ba6-a3ad-5f55d9605758', node_type=None, metadata={}, hash='5fe346b9780d9cb3c02ddb10c534617cab0597f7eedc7a0d4849c339a1fe0ef6')}, hash='5fe346b9780d9cb3c02ddb10c534617cab0597f7eedc7a0d4849c339a1fe0ef6', text='./data/medical/mgh/txt/1.txt', start_char_idx=None, end_char_idx=None, text_template='{metadata_str}\\n\\n{content}', metadata_template='{key}: {value}', metadata_seperator='\\n'),\n",
       " TextNode(id_='1b12ea23-0a00-4bb9-a8f2-40c2681d160b', embedding=None, metadata={}, excluded_embed_metadata_keys=[], excluded_llm_metadata_keys=[], relationships={<NodeRelationship.SOURCE: '1'>: RelatedNodeInfo(node_id='feb7470a-b2cf-4164-8cf1-0e4e01e2426c', node_type=None, metadata={}, hash='108ef16facf92f3597f455d5d0a06280d6111cff300f3f3fcbd1cf8a57997619')}, hash='108ef16facf92f3597f455d5d0a06280d6111cff300f3f3fcbd1cf8a57997619', text='./data/medical/mgh/txt/2.txt', start_char_idx=None, end_char_idx=None, text_template='{metadata_str}\\n\\n{content}', metadata_template='{key}: {value}', metadata_seperator='\\n'),\n",
       " TextNode(id_='1ce7b498-9e6f-4b1c-8147-162576ada77c', embedding=None, metadata={}, excluded_embed_metadata_keys=[], excluded_llm_metadata_keys=[], relationships={<NodeRelationship.SOURCE: '1'>: RelatedNodeInfo(node_id='fff5fbfa-b7ba-4cfa-8462-e28b75dd76b7', node_type=None, metadata={}, hash='b9ca1a5d8fdafb6be229f8c0fc1eeb920655e0ceab7b9b13a2d9b7563ece75fa')}, hash='b9ca1a5d8fdafb6be229f8c0fc1eeb920655e0ceab7b9b13a2d9b7563ece75fa', text='./data/medical/mgh/txt/3.txt', start_char_idx=None, end_char_idx=None, text_template='{metadata_str}\\n\\n{content}', metadata_template='{key}: {value}', metadata_seperator='\\n'),\n",
       " TextNode(id_='2ec05fba-6c44-4058-b830-0bb1d3ba7bc9', embedding=None, metadata={}, excluded_embed_metadata_keys=[], excluded_llm_metadata_keys=[], relationships={<NodeRelationship.SOURCE: '1'>: RelatedNodeInfo(node_id='00ad8b62-1c4b-4638-92bd-a7b088fb39c9', node_type=None, metadata={}, hash='ec48a541695a5fbf0f0f2fc2cda7ffce226c92d09bee5e2bf24d4a56f9332178')}, hash='ec48a541695a5fbf0f0f2fc2cda7ffce226c92d09bee5e2bf24d4a56f9332178', text='./data/medical/mgh/txt/4.txt', start_char_idx=None, end_char_idx=None, text_template='{metadata_str}\\n\\n{content}', metadata_template='{key}: {value}', metadata_seperator='\\n'),\n",
       " TextNode(id_='4613cc9a-9b1d-49b7-9ef4-9bb6fdcb0f66', embedding=None, metadata={}, excluded_embed_metadata_keys=[], excluded_llm_metadata_keys=[], relationships={<NodeRelationship.SOURCE: '1'>: RelatedNodeInfo(node_id='12b4c088-f267-4d3d-b3e1-3835da9479ed', node_type=None, metadata={}, hash='297a264229d5cdeda9b57b2744db874d538cd08cb48f2bea30884eb3df693068')}, hash='297a264229d5cdeda9b57b2744db874d538cd08cb48f2bea30884eb3df693068', text='./data/medical/mgh/txt/5.txt', start_char_idx=None, end_char_idx=None, text_template='{metadata_str}\\n\\n{content}', metadata_template='{key}: {value}', metadata_seperator='\\n'),\n",
       " TextNode(id_='dfe71d50-c5b5-46f3-8e63-6accdfcb95a0', embedding=None, metadata={}, excluded_embed_metadata_keys=[], excluded_llm_metadata_keys=[], relationships={<NodeRelationship.SOURCE: '1'>: RelatedNodeInfo(node_id='6ff31e19-58d5-4946-bc9b-1e4a2a14e61b', node_type=None, metadata={}, hash='5fc1d46934b48c213426172db12e72f03437434327010092f4b3df30d3018192')}, hash='5fc1d46934b48c213426172db12e72f03437434327010092f4b3df30d3018192', text='./data/medical/mgh/txt/6.txt', start_char_idx=None, end_char_idx=None, text_template='{metadata_str}\\n\\n{content}', metadata_template='{key}: {value}', metadata_seperator='\\n'),\n",
       " TextNode(id_='fdcafa8d-3de0-40fa-8907-45a8ea51a8c6', embedding=None, metadata={}, excluded_embed_metadata_keys=[], excluded_llm_metadata_keys=[], relationships={<NodeRelationship.SOURCE: '1'>: RelatedNodeInfo(node_id='c5f1ef42-e60e-4dd0-b5d8-2f9be8bf9aeb', node_type=None, metadata={}, hash='e02966b1c3fe8227204c067015588423df9dd0bf2d9b2eab9d617b9c783791ea')}, hash='e02966b1c3fe8227204c067015588423df9dd0bf2d9b2eab9d617b9c783791ea', text='./data/medical/mgh/txt/7.txt', start_char_idx=None, end_char_idx=None, text_template='{metadata_str}\\n\\n{content}', metadata_template='{key}: {value}', metadata_seperator='\\n'),\n",
       " TextNode(id_='ac9e26d6-12d5-49c8-84a8-1cf7fa36ce24', embedding=None, metadata={}, excluded_embed_metadata_keys=[], excluded_llm_metadata_keys=[], relationships={<NodeRelationship.SOURCE: '1'>: RelatedNodeInfo(node_id='b4bd0239-9e79-4e92-b408-6114875c4bb1', node_type=None, metadata={}, hash='0773ee5f5f0e114a0d920cd4f8c722d206ee90b064c5b3a3e62f58cfa9993e31')}, hash='0773ee5f5f0e114a0d920cd4f8c722d206ee90b064c5b3a3e62f58cfa9993e31', text='./data/medical/mgh/txt/8.txt', start_char_idx=None, end_char_idx=None, text_template='{metadata_str}\\n\\n{content}', metadata_template='{key}: {value}', metadata_seperator='\\n'),\n",
       " TextNode(id_='279d8a40-9607-45ba-8fb8-c8afb49e0bca', embedding=None, metadata={}, excluded_embed_metadata_keys=[], excluded_llm_metadata_keys=[], relationships={<NodeRelationship.SOURCE: '1'>: RelatedNodeInfo(node_id='ba55ed86-d3e9-4646-b513-eb1e75346248', node_type=None, metadata={}, hash='c04d7035c14f5ca2080fd11aeb40118c6a175c46c6cebafd176e59aa00427643')}, hash='c04d7035c14f5ca2080fd11aeb40118c6a175c46c6cebafd176e59aa00427643', text='./data/medical/mgh/txt/9.txt', start_char_idx=None, end_char_idx=None, text_template='{metadata_str}\\n\\n{content}', metadata_template='{key}: {value}', metadata_seperator='\\n'),\n",
       " TextNode(id_='159fb279-8c9e-4637-b623-d5137cb0c84b', embedding=None, metadata={}, excluded_embed_metadata_keys=[], excluded_llm_metadata_keys=[], relationships={<NodeRelationship.SOURCE: '1'>: RelatedNodeInfo(node_id='91f1936f-d3d2-42da-ba49-5adc7d5cddee', node_type=None, metadata={}, hash='894bd31cee62fdd11d02089cb82e1f5e19c037b4e49e1466a22dcf584811b089')}, hash='894bd31cee62fdd11d02089cb82e1f5e19c037b4e49e1466a22dcf584811b089', text='./data/medical/mgh/txt/10.txt', start_char_idx=None, end_char_idx=None, text_template='{metadata_str}\\n\\n{content}', metadata_template='{key}: {value}', metadata_seperator='\\n'),\n",
       " TextNode(id_='de3627ef-dabb-4a97-a9a1-71a9c416770c', embedding=None, metadata={}, excluded_embed_metadata_keys=[], excluded_llm_metadata_keys=[], relationships={<NodeRelationship.SOURCE: '1'>: RelatedNodeInfo(node_id='f47eade0-757b-4453-9cb3-f0bf53ceef72', node_type=None, metadata={}, hash='d5248a9b34ca01913f0925927eb596d6f754f805a0ee17e2debf35ea24dc34a7')}, hash='d5248a9b34ca01913f0925927eb596d6f754f805a0ee17e2debf35ea24dc34a7', text='./data/medical/mgh/txt/11.txt', start_char_idx=None, end_char_idx=None, text_template='{metadata_str}\\n\\n{content}', metadata_template='{key}: {value}', metadata_seperator='\\n'),\n",
       " TextNode(id_='d77a1495-f76c-4d03-80d8-c4393fd798c4', embedding=None, metadata={}, excluded_embed_metadata_keys=[], excluded_llm_metadata_keys=[], relationships={<NodeRelationship.SOURCE: '1'>: RelatedNodeInfo(node_id='2df963a2-7ade-4d25-beb3-b83e1099c5a1', node_type=None, metadata={}, hash='9ecfcb20681f2b13698ec9ca89574f75c101990dc4d7589c2e050537f7101be1')}, hash='9ecfcb20681f2b13698ec9ca89574f75c101990dc4d7589c2e050537f7101be1', text='./data/medical/mgh/txt/12.txt', start_char_idx=None, end_char_idx=None, text_template='{metadata_str}\\n\\n{content}', metadata_template='{key}: {value}', metadata_seperator='\\n'),\n",
       " TextNode(id_='965f5445-52e8-4b6e-af79-a36f0ac27a56', embedding=None, metadata={}, excluded_embed_metadata_keys=[], excluded_llm_metadata_keys=[], relationships={<NodeRelationship.SOURCE: '1'>: RelatedNodeInfo(node_id='b65d60b3-a33c-42a4-ad63-fbd14b3ec9f4', node_type=None, metadata={}, hash='d8abd938aafee4ebcaf0412438a5302b7a376ec6881ffa6ca909634e4ffac71b')}, hash='d8abd938aafee4ebcaf0412438a5302b7a376ec6881ffa6ca909634e4ffac71b', text='./data/medical/mgh/txt/13.txt', start_char_idx=None, end_char_idx=None, text_template='{metadata_str}\\n\\n{content}', metadata_template='{key}: {value}', metadata_seperator='\\n'),\n",
       " TextNode(id_='bbc2cdd3-1160-4442-a6bb-fe2d05ee1456', embedding=None, metadata={}, excluded_embed_metadata_keys=[], excluded_llm_metadata_keys=[], relationships={<NodeRelationship.SOURCE: '1'>: RelatedNodeInfo(node_id='c754abc2-17af-41fc-b89a-11dd746cde09', node_type=None, metadata={}, hash='5f8f982e22a67124ac5999329b0337c8885baa96ce07d2775b6e9373f36d745b')}, hash='5f8f982e22a67124ac5999329b0337c8885baa96ce07d2775b6e9373f36d745b', text='./data/medical/mgh/txt/14.txt', start_char_idx=None, end_char_idx=None, text_template='{metadata_str}\\n\\n{content}', metadata_template='{key}: {value}', metadata_seperator='\\n'),\n",
       " TextNode(id_='d31ad426-c1f3-4942-8ae5-237f90227f98', embedding=None, metadata={}, excluded_embed_metadata_keys=[], excluded_llm_metadata_keys=[], relationships={<NodeRelationship.SOURCE: '1'>: RelatedNodeInfo(node_id='bb9a7b71-ff45-4992-ad0d-97725e9bb32d', node_type=None, metadata={}, hash='cf2005912554d24d48617288163b8d801e34ffbdc01266cfcf5252a89de9a983')}, hash='cf2005912554d24d48617288163b8d801e34ffbdc01266cfcf5252a89de9a983', text='./data/medical/mgh/txt/15.txt', start_char_idx=None, end_char_idx=None, text_template='{metadata_str}\\n\\n{content}', metadata_template='{key}: {value}', metadata_seperator='\\n'),\n",
       " TextNode(id_='cd512922-b4a1-4e86-85af-d18c8c018350', embedding=None, metadata={}, excluded_embed_metadata_keys=[], excluded_llm_metadata_keys=[], relationships={<NodeRelationship.SOURCE: '1'>: RelatedNodeInfo(node_id='246308f1-1714-4a12-9d76-8623602d2d75', node_type=None, metadata={}, hash='4c91c2e25cd3fe860a787be0efdc2c4b0e41e7bb47290263f7dd97d733fe28c0')}, hash='4c91c2e25cd3fe860a787be0efdc2c4b0e41e7bb47290263f7dd97d733fe28c0', text='./data/medical/mgh/txt/16.txt', start_char_idx=None, end_char_idx=None, text_template='{metadata_str}\\n\\n{content}', metadata_template='{key}: {value}', metadata_seperator='\\n'),\n",
       " TextNode(id_='9ffed0d0-2ee3-4a03-81c6-cf613ea59d43', embedding=None, metadata={}, excluded_embed_metadata_keys=[], excluded_llm_metadata_keys=[], relationships={<NodeRelationship.SOURCE: '1'>: RelatedNodeInfo(node_id='fddc9a48-3cd7-44fb-add5-44979268fcb2', node_type=None, metadata={}, hash='edfdc4669f19da680a4c8b749a4b2e1bea7a9b9847895227e6f10a48b809e3c9')}, hash='edfdc4669f19da680a4c8b749a4b2e1bea7a9b9847895227e6f10a48b809e3c9', text='./data/medical/mgh/txt/17.txt', start_char_idx=None, end_char_idx=None, text_template='{metadata_str}\\n\\n{content}', metadata_template='{key}: {value}', metadata_seperator='\\n'),\n",
       " TextNode(id_='2d2a9fef-9051-4d04-a488-75682b3c43e6', embedding=None, metadata={}, excluded_embed_metadata_keys=[], excluded_llm_metadata_keys=[], relationships={<NodeRelationship.SOURCE: '1'>: RelatedNodeInfo(node_id='60b99095-471f-4b59-a04f-ae785a9f1f36', node_type=None, metadata={}, hash='599ba5316cf609d1063218da97f9216959a3c13bf13479b24b06a13058b79d20')}, hash='599ba5316cf609d1063218da97f9216959a3c13bf13479b24b06a13058b79d20', text='./data/medical/mgh/txt/18.txt', start_char_idx=None, end_char_idx=None, text_template='{metadata_str}\\n\\n{content}', metadata_template='{key}: {value}', metadata_seperator='\\n'),\n",
       " TextNode(id_='754124e1-40f0-4d25-9d4a-68a996974375', embedding=None, metadata={}, excluded_embed_metadata_keys=[], excluded_llm_metadata_keys=[], relationships={<NodeRelationship.SOURCE: '1'>: RelatedNodeInfo(node_id='daaee35e-65ed-450d-a097-a9f896a22957', node_type=None, metadata={}, hash='48edd3cb8599199243a7d4125e1bd3bdfd627cfea01bffa293cee9007c72d180')}, hash='48edd3cb8599199243a7d4125e1bd3bdfd627cfea01bffa293cee9007c72d180', text='./data/medical/mgh/txt/19.txt', start_char_idx=None, end_char_idx=None, text_template='{metadata_str}\\n\\n{content}', metadata_template='{key}: {value}', metadata_seperator='\\n'),\n",
       " TextNode(id_='01cf1dbe-6eb1-43f7-a650-5f16dc57f413', embedding=None, metadata={}, excluded_embed_metadata_keys=[], excluded_llm_metadata_keys=[], relationships={<NodeRelationship.SOURCE: '1'>: RelatedNodeInfo(node_id='e28f20b3-7b7d-4219-9e89-5e8e70c68573', node_type=None, metadata={}, hash='7880ef079a471cf8c2bbd0d6fbd5b547a58d1de00373e62d1e74948cc03edb6f')}, hash='7880ef079a471cf8c2bbd0d6fbd5b547a58d1de00373e62d1e74948cc03edb6f', text='./data/medical/mgh/txt/20.txt', start_char_idx=None, end_char_idx=None, text_template='{metadata_str}\\n\\n{content}', metadata_template='{key}: {value}', metadata_seperator='\\n')]"
      ]
     },
     "execution_count": 3,
     "metadata": {},
     "output_type": "execute_result"
    }
   ],
   "source": [
    "parser = SimpleNodeParser()\n",
    "nodes = parser.get_nodes_from_documents(documents)\n",
    "nodes"
   ]
  },
  {
   "cell_type": "code",
   "execution_count": 4,
   "metadata": {},
   "outputs": [
    {
     "name": "stdout",
     "output_type": "stream",
     "text": [
      "******\n",
      "Could not load OpenAI model. Using default LlamaCPP=llama2-13b-chat. If you intended to use OpenAI, please check your API key.\n",
      "******\n"
     ]
    },
    {
     "name": "stderr",
     "output_type": "stream",
     "text": [
      "llama.cpp: loading model from /Users/admin/Library/Caches/llama_index/models/llama-2-13b-chat.ggmlv3.q4_0.bin\n",
      "llama_model_load_internal: format     = ggjt v3 (latest)\n",
      "llama_model_load_internal: n_vocab    = 32000\n",
      "llama_model_load_internal: n_ctx      = 3900\n",
      "llama_model_load_internal: n_embd     = 5120\n",
      "llama_model_load_internal: n_mult     = 256\n",
      "llama_model_load_internal: n_head     = 40\n",
      "llama_model_load_internal: n_head_kv  = 40\n",
      "llama_model_load_internal: n_layer    = 40\n",
      "llama_model_load_internal: n_rot      = 128\n",
      "llama_model_load_internal: n_gqa      = 1\n",
      "llama_model_load_internal: rnorm_eps  = 5.0e-06\n",
      "llama_model_load_internal: n_ff       = 13824\n",
      "llama_model_load_internal: freq_base  = 10000.0\n",
      "llama_model_load_internal: freq_scale = 1\n",
      "llama_model_load_internal: ftype      = 2 (mostly Q4_0)\n",
      "llama_model_load_internal: model size = 13B\n",
      "llama_model_load_internal: ggml ctx size =    0.11 MB\n",
      "llama_model_load_internal: mem required  = 6983.72 MB (+ 3046.88 MB per state)\n",
      "llama_new_context_with_model: kv self size  = 3046.88 MB\n",
      "llama_new_context_with_model: compute buffer total size =  336.03 MB\n",
      "AVX = 1 | AVX2 = 1 | AVX512 = 0 | AVX512_VBMI = 0 | AVX512_VNNI = 0 | FMA = 1 | NEON = 0 | ARM_FMA = 0 | F16C = 1 | FP16_VA = 0 | WASM_SIMD = 0 | BLAS = 1 | SSE3 = 1 | VSX = 0 | \n"
     ]
    },
    {
     "name": "stdout",
     "output_type": "stream",
     "text": [
      "******\n",
      "Could not load OpenAIEmbedding. Using HuggingFaceBgeEmbeddings with model_name=BAAI/bge-small-en. Please check your API key if you intended to use OpenAI embeddings.\n",
      "******\n"
     ]
    },
    {
     "name": "stderr",
     "output_type": "stream",
     "text": [
      "/Users/admin/opt/anaconda3/envs/rsgpt/lib/python3.10/site-packages/tqdm/auto.py:21: TqdmWarning: IProgress not found. Please update jupyter and ipywidgets. See https://ipywidgets.readthedocs.io/en/stable/user_install.html\n",
      "  from .autonotebook import tqdm as notebook_tqdm\n",
      "Downloading (…)ab102/.gitattributes: 100%|██████████| 1.52k/1.52k [00:00<00:00, 1.48MB/s]\n",
      "Downloading (…)_Pooling/config.json: 100%|██████████| 190/190 [00:00<00:00, 631kB/s]\n",
      "Downloading (…)2d2d7ab102/README.md: 100%|██████████| 78.9k/78.9k [00:00<00:00, 343kB/s]\n",
      "Downloading (…)2d7ab102/config.json: 100%|██████████| 684/684 [00:00<00:00, 1.58MB/s]\n",
      "Downloading (…)ce_transformers.json: 100%|██████████| 124/124 [00:00<00:00, 415kB/s]\n",
      "Downloading model.safetensors: 100%|██████████| 133M/133M [00:05<00:00, 23.9MB/s] \n",
      "Downloading pytorch_model.bin: 100%|██████████| 134M/134M [00:11<00:00, 11.3MB/s] \n",
      "Downloading (…)nce_bert_config.json: 100%|██████████| 52.0/52.0 [00:00<00:00, 87.0kB/s]\n",
      "Downloading (…)cial_tokens_map.json: 100%|██████████| 125/125 [00:00<00:00, 425kB/s]\n",
      "Downloading (…)ab102/tokenizer.json: 100%|██████████| 711k/711k [00:01<00:00, 689kB/s]\n",
      "Downloading (…)okenizer_config.json: 100%|██████████| 366/366 [00:00<00:00, 1.14MB/s]\n",
      "Downloading (…)2d2d7ab102/vocab.txt: 100%|██████████| 232k/232k [00:00<00:00, 431kB/s]\n",
      "Downloading (…)d7ab102/modules.json: 100%|██████████| 229/229 [00:00<00:00, 358kB/s]\n"
     ]
    },
    {
     "data": {
      "text/plain": [
       "<llama_index.indices.vector_store.base.VectorStoreIndex at 0x7fe4a4e5e0b0>"
      ]
     },
     "execution_count": 4,
     "metadata": {},
     "output_type": "execute_result"
    }
   ],
   "source": [
    "index = VectorStoreIndex(nodes)\n",
    "index"
   ]
  },
  {
   "cell_type": "code",
   "execution_count": 6,
   "metadata": {},
   "outputs": [
    {
     "name": "stderr",
     "output_type": "stream",
     "text": [
      "llama.cpp: loading model from /Users/admin/Library/Caches/llama_index/models/llama-2-13b-chat.ggmlv3.q4_0.bin\n",
      "llama_model_load_internal: format     = ggjt v3 (latest)\n",
      "llama_model_load_internal: n_vocab    = 32000\n",
      "llama_model_load_internal: n_ctx      = 3900\n",
      "llama_model_load_internal: n_embd     = 5120\n",
      "llama_model_load_internal: n_mult     = 256\n",
      "llama_model_load_internal: n_head     = 40\n",
      "llama_model_load_internal: n_head_kv  = 40\n",
      "llama_model_load_internal: n_layer    = 40\n",
      "llama_model_load_internal: n_rot      = 128\n",
      "llama_model_load_internal: n_gqa      = 1\n",
      "llama_model_load_internal: rnorm_eps  = 5.0e-06\n",
      "llama_model_load_internal: n_ff       = 13824\n",
      "llama_model_load_internal: freq_base  = 10000.0\n",
      "llama_model_load_internal: freq_scale = 1\n",
      "llama_model_load_internal: ftype      = 2 (mostly Q4_0)\n",
      "llama_model_load_internal: model size = 13B\n",
      "llama_model_load_internal: ggml ctx size =    0.11 MB\n",
      "llama_model_load_internal: mem required  = 6983.72 MB (+ 3046.88 MB per state)\n",
      "llama_new_context_with_model: kv self size  = 3046.88 MB\n",
      "llama_new_context_with_model: compute buffer total size =  336.03 MB\n",
      "AVX = 1 | AVX2 = 1 | AVX512 = 0 | AVX512_VBMI = 0 | AVX512_VNNI = 0 | FMA = 1 | NEON = 0 | ARM_FMA = 0 | F16C = 1 | FP16_VA = 0 | WASM_SIMD = 0 | BLAS = 1 | SSE3 = 1 | VSX = 0 | \n"
     ]
    },
    {
     "name": "stdout",
     "output_type": "stream",
     "text": [
      "******\n",
      "Could not load OpenAIEmbedding. Using HuggingFaceBgeEmbeddings with model_name=BAAI/bge-small-en. Please check your API key if you intended to use OpenAI embeddings.\n",
      "******\n"
     ]
    }
   ],
   "source": [
    "# from llama_index import VectorStoreIndex, ServiceContext, set_global_service_context\n",
    "# from llama_index.llms import OpenAI\n",
    "\n",
    "# # define LLM\n",
    "# llm = OpenAI(model=\"gpt-4\", temperature=0, max_tokens=256)\n",
    "\n",
    "# # configure service context\n",
    "# service_context = ServiceContext.from_defaults(llm=llm)\n",
    "# set_global_service_context(service_context)\n",
    "\n",
    "from llama_index import ServiceContext\n",
    "service_context = ServiceContext.from_defaults(llm=\"local\")"
   ]
  },
  {
   "cell_type": "code",
   "execution_count": 7,
   "metadata": {},
   "outputs": [
    {
     "name": "stdout",
     "output_type": "stream",
     "text": [
      "******\n",
      "Could not load OpenAI model. Using default LlamaCPP=llama2-13b-chat. If you intended to use OpenAI, please check your API key.\n",
      "******\n",
      "******\n",
      "Could not load OpenAIEmbedding. Using HuggingFaceBgeEmbeddings with model_name=BAAI/bge-small-en. Please check your API key if you intended to use OpenAI embeddings.\n",
      "******\n"
     ]
    },
    {
     "name": "stderr",
     "output_type": "stream",
     "text": [
      "llama.cpp: loading model from /Users/admin/Library/Caches/llama_index/models/llama-2-13b-chat.ggmlv3.q4_0.bin\n",
      "llama_model_load_internal: format     = ggjt v3 (latest)\n",
      "llama_model_load_internal: n_vocab    = 32000\n",
      "llama_model_load_internal: n_ctx      = 3900\n",
      "llama_model_load_internal: n_embd     = 5120\n",
      "llama_model_load_internal: n_mult     = 256\n",
      "llama_model_load_internal: n_head     = 40\n",
      "llama_model_load_internal: n_head_kv  = 40\n",
      "llama_model_load_internal: n_layer    = 40\n",
      "llama_model_load_internal: n_rot      = 128\n",
      "llama_model_load_internal: n_gqa      = 1\n",
      "llama_model_load_internal: rnorm_eps  = 5.0e-06\n",
      "llama_model_load_internal: n_ff       = 13824\n",
      "llama_model_load_internal: freq_base  = 10000.0\n",
      "llama_model_load_internal: freq_scale = 1\n",
      "llama_model_load_internal: ftype      = 2 (mostly Q4_0)\n",
      "llama_model_load_internal: model size = 13B\n",
      "llama_model_load_internal: ggml ctx size =    0.11 MB\n",
      "llama_model_load_internal: mem required  = 6983.72 MB (+ 3046.88 MB per state)\n",
      "llama_new_context_with_model: kv self size  = 3046.88 MB\n",
      "llama_new_context_with_model: compute buffer total size =  336.03 MB\n",
      "AVX = 1 | AVX2 = 1 | AVX512 = 0 | AVX512_VBMI = 0 | AVX512_VNNI = 0 | FMA = 1 | NEON = 0 | ARM_FMA = 0 | F16C = 1 | FP16_VA = 0 | WASM_SIMD = 0 | BLAS = 1 | SSE3 = 1 | VSX = 0 | \n"
     ]
    }
   ],
   "source": [
    "# build index\n",
    "index = VectorStoreIndex.from_documents(\n",
    "    documents\n",
    ")"
   ]
  },
  {
   "cell_type": "markdown",
   "metadata": {},
   "source": [
    "# Optional Save the index for future use"
   ]
  },
  {
   "cell_type": "code",
   "execution_count": 8,
   "metadata": {},
   "outputs": [
    {
     "name": "stdout",
     "output_type": "stream",
     "text": [
      "******\n",
      "Could not load OpenAI model. Using default LlamaCPP=llama2-13b-chat. If you intended to use OpenAI, please check your API key.\n",
      "******\n",
      "******\n",
      "Could not load OpenAIEmbedding. Using HuggingFaceBgeEmbeddings with model_name=BAAI/bge-small-en. Please check your API key if you intended to use OpenAI embeddings.\n",
      "******\n"
     ]
    },
    {
     "name": "stderr",
     "output_type": "stream",
     "text": [
      "llama.cpp: loading model from /Users/admin/Library/Caches/llama_index/models/llama-2-13b-chat.ggmlv3.q4_0.bin\n",
      "llama_model_load_internal: format     = ggjt v3 (latest)\n",
      "llama_model_load_internal: n_vocab    = 32000\n",
      "llama_model_load_internal: n_ctx      = 3900\n",
      "llama_model_load_internal: n_embd     = 5120\n",
      "llama_model_load_internal: n_mult     = 256\n",
      "llama_model_load_internal: n_head     = 40\n",
      "llama_model_load_internal: n_head_kv  = 40\n",
      "llama_model_load_internal: n_layer    = 40\n",
      "llama_model_load_internal: n_rot      = 128\n",
      "llama_model_load_internal: n_gqa      = 1\n",
      "llama_model_load_internal: rnorm_eps  = 5.0e-06\n",
      "llama_model_load_internal: n_ff       = 13824\n",
      "llama_model_load_internal: freq_base  = 10000.0\n",
      "llama_model_load_internal: freq_scale = 1\n",
      "llama_model_load_internal: ftype      = 2 (mostly Q4_0)\n",
      "llama_model_load_internal: model size = 13B\n",
      "llama_model_load_internal: ggml ctx size =    0.11 MB\n",
      "llama_model_load_internal: mem required  = 6983.72 MB (+ 3046.88 MB per state)\n",
      "llama_new_context_with_model: kv self size  = 3046.88 MB\n",
      "llama_new_context_with_model: compute buffer total size =  336.03 MB\n",
      "AVX = 1 | AVX2 = 1 | AVX512 = 0 | AVX512_VBMI = 0 | AVX512_VNNI = 0 | FMA = 1 | NEON = 0 | ARM_FMA = 0 | F16C = 1 | FP16_VA = 0 | WASM_SIMD = 0 | BLAS = 1 | SSE3 = 1 | VSX = 0 | \n"
     ]
    }
   ],
   "source": [
    "from llama_index import StorageContext, load_index_from_storage\n",
    "\n",
    "index.storage_context.persist(persist_dir=\".storage\")\n",
    "\n",
    "# rebuild storage context\n",
    "storage_context = StorageContext.from_defaults(persist_dir=\".storage\")\n",
    "\n",
    "# load index\n",
    "index = load_index_from_storage(storage_context)"
   ]
  },
  {
   "cell_type": "markdown",
   "metadata": {},
   "source": [
    "# High-level APIs"
   ]
  },
  {
   "cell_type": "code",
   "execution_count": 9,
   "metadata": {},
   "outputs": [
    {
     "name": "stderr",
     "output_type": "stream",
     "text": [
      "\n",
      "llama_print_timings:        load time = 137589.68 ms\n",
      "llama_print_timings:      sample time =    75.11 ms /    64 runs   (    1.17 ms per token,   852.09 tokens per second)\n",
      "llama_print_timings: prompt eval time = 137589.58 ms /   159 tokens (  865.34 ms per token,     1.16 tokens per second)\n",
      "llama_print_timings:        eval time = 117810.66 ms /    63 runs   ( 1870.01 ms per token,     0.53 tokens per second)\n",
      "llama_print_timings:       total time = 255786.00 ms\n",
      "Llama.generate: prefix-match hit\n"
     ]
    },
    {
     "name": "stdout",
     "output_type": "stream",
     "text": [
      "  Based on the provided context information, I can see two files with the extensions \".txt\" located in the \"/data/medical/mgh\" directory. These files are named \"17.txt\" and \"18.txt\".\n",
      "\n",
      "Therefore, there are two documents in the storage.\n",
      "  Based on the context information provided, I cannot answer the question \"What are they?\" as there is no clear subject or topic mentioned in the text files. The files contain medical information and data, but there is no explicit mention of a specific entity or group that could be referred to as \"they.\" Therefore, I cannot provide an answer to this question based on the given context. If you have any further questions or clarifications, please feel free to ask.\n"
     ]
    },
    {
     "name": "stderr",
     "output_type": "stream",
     "text": [
      "\n",
      "llama_print_timings:        load time = 137589.68 ms\n",
      "llama_print_timings:      sample time =    94.19 ms /    94 runs   (    1.00 ms per token,   998.01 tokens per second)\n",
      "llama_print_timings: prompt eval time =  5549.76 ms /    10 tokens (  554.98 ms per token,     1.80 tokens per second)\n",
      "llama_print_timings:        eval time = 85411.19 ms /    93 runs   (  918.40 ms per token,     1.09 tokens per second)\n",
      "llama_print_timings:       total time = 91402.28 ms\n"
     ]
    }
   ],
   "source": [
    "query_engine = index.as_query_engine()\n",
    "response = query_engine.query(\"How many documents are there in the storage?\")\n",
    "print(response)\n",
    "\n",
    "response = query_engine.query(\"What are they?\")\n",
    "print(response)"
   ]
  },
  {
   "cell_type": "code",
   "execution_count": null,
   "metadata": {},
   "outputs": [],
   "source": []
  }
 ],
 "metadata": {
  "kernelspec": {
   "display_name": "py310",
   "language": "python",
   "name": "python3"
  },
  "language_info": {
   "codemirror_mode": {
    "name": "ipython",
    "version": 3
   },
   "file_extension": ".py",
   "mimetype": "text/x-python",
   "name": "python",
   "nbconvert_exporter": "python",
   "pygments_lexer": "ipython3",
   "version": "3.10.12"
  },
  "orig_nbformat": 4
 },
 "nbformat": 4,
 "nbformat_minor": 2
}
