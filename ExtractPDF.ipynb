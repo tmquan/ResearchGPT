{
 "cells": [
  {
   "cell_type": "code",
   "execution_count": 1,
   "metadata": {},
   "outputs": [],
   "source": [
    "# ! pip install pdfservices-sdk -U\n",
    "# ! pip install from latexcodec -U"
   ]
  },
  {
   "cell_type": "code",
   "execution_count": 2,
   "metadata": {},
   "outputs": [
    {
     "data": {
      "text/plain": [
       "True"
      ]
     },
     "execution_count": 2,
     "metadata": {},
     "output_type": "execute_result"
    }
   ],
   "source": [
    "from dotenv import load_dotenv\n",
    "load_dotenv()"
   ]
  },
  {
   "cell_type": "code",
   "execution_count": 3,
   "metadata": {},
   "outputs": [],
   "source": [
    "import os\n",
    "import re\n",
    "\n",
    "import time \n",
    "import glob\n",
    "import json\n",
    "import shutil\n",
    "from pylatexenc.latexencode import UnicodeToLatexEncoder\n",
    "from tqdm.notebook import tqdm\n",
    "from zipfile import ZipFile\n"
   ]
  },
  {
   "cell_type": "code",
   "execution_count": 4,
   "metadata": {},
   "outputs": [],
   "source": [
    "from adobe.pdfservices.operation.auth.credentials import Credentials\n",
    "from adobe.pdfservices.operation.exception.exceptions import ServiceApiException, ServiceUsageException, SdkException\n",
    "from adobe.pdfservices.operation.pdfops.options.extractpdf.extract_pdf_options import ExtractPDFOptions\n",
    "from adobe.pdfservices.operation.pdfops.options.extractpdf.extract_element_type import ExtractElementType\n",
    "from adobe.pdfservices.operation.pdfops.options.extractpdf.extract_renditions_element_type import ExtractRenditionsElementType\n",
    "from adobe.pdfservices.operation.pdfops.options.extractpdf.table_structure_type import TableStructureType\n",
    "from adobe.pdfservices.operation.execution_context import ExecutionContext\n",
    "from adobe.pdfservices.operation.io.file_ref import FileRef\n",
    "from adobe.pdfservices.operation.pdfops.extract_pdf_operation import ExtractPDFOperation"
   ]
  },
  {
   "cell_type": "code",
   "execution_count": 5,
   "metadata": {},
   "outputs": [],
   "source": [
    "# Initial setup, create credentials instance.\n",
    "credentials = Credentials.service_principal_credentials_builder(). \\\n",
    "    with_client_id(os.getenv('PDF_SERVICES_CLIENT_ID')). \\\n",
    "    with_client_secret(os.getenv('PDF_SERVICES_CLIENT_SECRET')). \\\n",
    "    build()\n",
    "\n",
    "# Create an ExecutionContext using credentials and create a new operation instance.\n",
    "execution_context = ExecutionContext.create(credentials)\n",
    "extract_pdf_operation = ExtractPDFOperation.create_new()"
   ]
  },
  {
   "cell_type": "code",
   "execution_count": 6,
   "metadata": {},
   "outputs": [
    {
     "data": {
      "text/plain": [
       "['data/Corona-Figueroa et al. - 2022 - MedNeRF Medical Neural Radiance Fields for Recons.pdf',\n",
       " 'data/Fridovich-Keil et al. - 2022 - Plenoxels Radiance Fields without Neural Networks.pdf',\n",
       " 'data/Ge et al. - 2022 - X-CTRSNet 3D cervical vertebra CT reconstruction .pdf',\n",
       " 'data/Jiang et al. - 2021 - Reconstruction of 3D CT from A Single X-ray Projec.pdf',\n",
       " 'data/Lin et al. - 2021 - BARF Bundle-Adjusting Neural Radiance Fields.pdf',\n",
       " 'data/Loyen et al. - 2023 - Patient-specific three-dimensional image reconstru.pdf',\n",
       " 'data/Mildenhall et al. - 2020 - NeRF Representing Scenes as Neural Radiance Field.pdf',\n",
       " 'data/Muller et al. - 2022 - Instant neural graphics primitives with a multires.pdf',\n",
       " 'data/Ratul et al. - 2021 - CCX-rayNet A Class Conditioned Convolutional Neur.pdf',\n",
       " 'data/Shen et al. - 2019 - Harnessing the power of deep learning for volumetr.pdf',\n",
       " 'data/Shen et al. - 2019 - Patient-specific reconstruction of volumetric comp.pdf',\n",
       " 'data/Shen et al. - 2022 - Novel-view X-ray projection synthesis through geom.pdf',\n",
       " 'data/Sun et al. - 2022 - Direct Voxel Grid Optimization Super-fast Converg.pdf',\n",
       " 'data/Tan et al. - 2022 - XctNet Reconstruction network of volumetric image.pdf',\n",
       " 'data/Tan et al. - 2023 - Semi-XctNet Volumetric images reconstruction netw.pdf',\n",
       " 'data/Tancik et al. - 2022 - Block-NeRF Scalable Large Scene Neural View Synth.pdf',\n",
       " 'data/Wang et al. - 2022 - Neural Rendering for\\xa0Stereo 3D Reconstruction of\\xa0D.pdf',\n",
       " 'data/Yen-Chen et al. - 2021 - iNeRF Inverting Neural Radiance Fields for Pose E.pdf',\n",
       " 'data/Ying et al. - 2019 - X2CT-GAN Reconstructing CT From Biplanar X-Rays W.pdf',\n",
       " 'data/Yu et al. - pixelNeRF Neural Radiance Fields From One or Few .pdf']"
      ]
     },
     "metadata": {},
     "output_type": "display_data"
    },
    {
     "data": {
      "text/plain": [
       "20"
      ]
     },
     "metadata": {},
     "output_type": "display_data"
    }
   ],
   "source": [
    "# Filter protocol only pdf\n",
    "datadir = \"data\"\n",
    "filenames = sorted(glob.glob(os.path.join(datadir, r\"*.pdf\")))\n",
    "display(filenames)\n",
    "display(len(filenames))"
   ]
  },
  {
   "cell_type": "code",
   "execution_count": 7,
   "metadata": {},
   "outputs": [],
   "source": [
    "def extract_text_from_pdf(filename):\n",
    "    try:\n",
    "        print(filename)\n",
    "        time.sleep(1)\n",
    "        # Set operation input from a source file.\n",
    "        source = FileRef.create_from_local_file(filename)\n",
    "        extract_pdf_operation.set_input(source)\n",
    "\n",
    "        extract_pdf_options: ExtractPDFOptions = ExtractPDFOptions.builder() \\\n",
    "            .with_element_to_extract(ExtractElementType.TEXT) \\\n",
    "            .build()\n",
    "        extract_pdf_operation.set_options(extract_pdf_options)\n",
    "\n",
    "        # Execute the operation.\n",
    "        result: FileRef = extract_pdf_operation.execute(execution_context)\n",
    "\n",
    "        # Save the result to the specified location.\n",
    "        result.save_as(filename.replace(\".pdf\", \".zip\"))\n",
    "\n",
    "        with ZipFile(filename.replace(\".pdf\", \".zip\"), 'r') as f:\n",
    "            f.extractall( os.getcwd() )\n",
    "            \n",
    "        # Move structuredData.json to pdf/filename.json\n",
    "        shutil.move('structuredData.json', filename.replace(\".pdf\", \".json\"))\n",
    "    except Exception as e:\n",
    "        print(e)"
   ]
  },
  {
   "cell_type": "code",
   "execution_count": 8,
   "metadata": {},
   "outputs": [],
   "source": [
    "# for filename in tqdm(filenames):\n",
    "#     extract_text_from_pdf(filename)"
   ]
  },
  {
   "cell_type": "code",
   "execution_count": 9,
   "metadata": {},
   "outputs": [
    {
     "data": {
      "text/plain": [
       "['data/Corona-Figueroa et al. - 2022 - MedNeRF Medical Neural Radiance Fields for Recons.json',\n",
       " 'data/Fridovich-Keil et al. - 2022 - Plenoxels Radiance Fields without Neural Networks.json',\n",
       " 'data/Ge et al. - 2022 - X-CTRSNet 3D cervical vertebra CT reconstruction .json',\n",
       " 'data/Jiang et al. - 2021 - Reconstruction of 3D CT from A Single X-ray Projec.json',\n",
       " 'data/Lin et al. - 2021 - BARF Bundle-Adjusting Neural Radiance Fields.json',\n",
       " 'data/Loyen et al. - 2023 - Patient-specific three-dimensional image reconstru.json',\n",
       " 'data/Mildenhall et al. - 2020 - NeRF Representing Scenes as Neural Radiance Field.json',\n",
       " 'data/Muller et al. - 2022 - Instant neural graphics primitives with a multires.json',\n",
       " 'data/Ratul et al. - 2021 - CCX-rayNet A Class Conditioned Convolutional Neur.json',\n",
       " 'data/Shen et al. - 2019 - Harnessing the power of deep learning for volumetr.json',\n",
       " 'data/Shen et al. - 2019 - Patient-specific reconstruction of volumetric comp.json',\n",
       " 'data/Shen et al. - 2022 - Novel-view X-ray projection synthesis through geom.json',\n",
       " 'data/Sun et al. - 2022 - Direct Voxel Grid Optimization Super-fast Converg.json',\n",
       " 'data/Tan et al. - 2022 - XctNet Reconstruction network of volumetric image.json',\n",
       " 'data/Tan et al. - 2023 - Semi-XctNet Volumetric images reconstruction netw.json',\n",
       " 'data/Tancik et al. - 2022 - Block-NeRF Scalable Large Scene Neural View Synth.json',\n",
       " 'data/Wang et al. - 2022 - Neural Rendering for\\xa0Stereo 3D Reconstruction of\\xa0D.json',\n",
       " 'data/Yen-Chen et al. - 2021 - iNeRF Inverting Neural Radiance Fields for Pose E.json',\n",
       " 'data/Ying et al. - 2019 - X2CT-GAN Reconstructing CT From Biplanar X-Rays W.json',\n",
       " 'data/Yu et al. - pixelNeRF Neural Radiance Fields From One or Few .json']"
      ]
     },
     "metadata": {},
     "output_type": "display_data"
    },
    {
     "data": {
      "text/plain": [
       "20"
      ]
     },
     "metadata": {},
     "output_type": "display_data"
    }
   ],
   "source": [
    "# Filter json\n",
    "datadir = \"data\"\n",
    "filenames = sorted(glob.glob(os.path.join(datadir, r\"*.json\")))\n",
    "display(filenames)\n",
    "display(len(filenames))"
   ]
  },
  {
   "cell_type": "code",
   "execution_count": 10,
   "metadata": {},
   "outputs": [],
   "source": [
    "# Title, images, headers, paragraphs, lists, tables\n",
    "# JSON, PNG, CSV"
   ]
  },
  {
   "cell_type": "code",
   "execution_count": 11,
   "metadata": {},
   "outputs": [],
   "source": [
    "def extract_text_from_json(filename):\n",
    "    try:\n",
    "        print(filename)\n",
    "        time.sleep(1)\n",
    "        \"\"\"Extracts the text from an Adobe JSON file and concatenates it.\n",
    "\n",
    "        Args:\n",
    "            adobe_json (str): The path to the Adobe JSON file.\n",
    "\n",
    "        Returns:\n",
    "            str: The concatenated text.\n",
    "        \"\"\"\n",
    "\n",
    "        with open(filename, \"r\") as f:\n",
    "            data = json.load(f)\n",
    "        \n",
    "        data_elements = data['elements']\n",
    "        # https://developer.adobe.com/document-services/docs/overview/pdf-extract-api/howtos/extract-api/\n",
    "        # ISO standard , a summary is included below for convenience :\n",
    "        # Aside : Content which is not part of regular content flow of the document\n",
    "        # Figure : Non-reflowable constructs like graphs, images, flowcharts\n",
    "        # Footnote : FootNote\n",
    "        # H, H1, H2, etc : Heading Level\n",
    "        # L : List\n",
    "        # Li : List Item\n",
    "        # Lbl : List Item label\n",
    "        # Lbody : List item body\n",
    "        # P : Paragraph\n",
    "        # ParagraphSpan : Denotes part of a paragraph. Reported when paragraph is broken (generally due to page break or column break)\n",
    "        # Reference : Link\n",
    "        # Sect : Logical section of the document\n",
    "        # StyleSpan : Denotes difference in styling of text relative to the parent container\n",
    "        # Sub : Single line of a multiline paragraph (e.g. addresses). Such paras are created in html using \\<br> inside \\<p> tags\n",
    "        # Table : Table\n",
    "        # TD : Table cell\n",
    "        # TH : Table header cell\n",
    "        # TR : Table row\n",
    "        # Title : Title of the document. This is the most prominent heading which can define the whole document.\n",
    "        # TOC : Table of contents\n",
    "        # TOCI : Table of contents item\n",
    "        # Watermark : Watermark\n",
    "\n",
    "        # Define regex patterns for different key types\n",
    "        key_patterns = {\n",
    "            \"Title\": r\"^//Document/*Title$\",\n",
    "            \"Heading\": r\"^//Document/*H1\\[\\d+\\]$\",\n",
    "            \"List\": r\"^//Document/*L\\[\\d+\\]$\",\n",
    "            \"ListItem\": r\"^//Document/*Li\\[\\d+\\]$\",\n",
    "            \"Label\": r\"^//Document/*Lbl\\[\\d+\\]$\",\n",
    "            \"Lbody\": r\"^//Document/*Lbody\\[\\d+\\]$\",\n",
    "            \"P\": r\"^//Document/*P\\[\\d+\\]$\",\n",
    "            \"ParagraphSpan\": r\"^//Document/*ParagraphSpan\\[\\d+\\]$\",\n",
    "            # \"Sect\": r\"^//Document/*Sect\\[\\d+\\]$\",\n",
    "            # \"Sub\": r\"^//Document/*Sub\\[\\d+\\]$\",\n",
    "            # \"Table\": r\"^//Document/*Table\\[\\d+\\]$\",\n",
    "            # \"Figure\": r\"^//Document/*Figure\\[\\d+\\]$\",\n",
    "            \"Reference\": r\"^//Document/*Link\\[\\d+\\]$\"\n",
    "        }\n",
    "\n",
    "        # combined_text = []\n",
    "        # for element in data_elements:\n",
    "        #     for key_type, pattern in key_patterns.items():\n",
    "        #         if re.search(pattern, element['Path']):\n",
    "        #             # print(key_type, pattern)\n",
    "        #             combined_text.append(element['Text'])\n",
    "\n",
    "        # Initialize a list to store combined text\n",
    "        combined_text = []\n",
    "\n",
    "        # Temporary variable to hold concatenated ParagraphSpan text\n",
    "        temp_paragraphspan_text = \"\"\n",
    "\n",
    "        # Iterate through elements and combine values for each key type\n",
    "        for element in data_elements:\n",
    "            combined = False\n",
    "            for key_type, pattern in key_patterns.items():\n",
    "                if re.search(pattern, element['Path']):\n",
    "                    if key_type == \"ParagraphSpan\":\n",
    "                        temp_paragraphspan_text += element['Text'] + \" \"\n",
    "                        combined = True\n",
    "                    else:\n",
    "                        if combined:\n",
    "                            combined_text.append(temp_paragraphspan_text.strip())\n",
    "                            temp_paragraphspan_text = \"\"\n",
    "                        combined_text.append(element['Text'] + \"\\n\")\n",
    "                        break\n",
    "        \n",
    "\n",
    "        # Print the combined text\n",
    "        text = \"\\n\".join(combined_text)\n",
    "        # print(text)\n",
    "\n",
    "        # Handle this special characters\n",
    "        # text = \"\".join(c for c in text if ord(c) < 128)\n",
    "        text = UnicodeToLatexEncoder(unknown_char_policy='ignore').unicode_to_latex(text)\n",
    "        \n",
    "        with open(filename.replace('.json', '.txt'), \"w\") as output_file:\n",
    "            output_file.write(text)\n",
    "            \n",
    "    except Exception as e:\n",
    "        print(e)"
   ]
  },
  {
   "cell_type": "code",
   "execution_count": 12,
   "metadata": {},
   "outputs": [
    {
     "data": {
      "application/vnd.jupyter.widget-view+json": {
       "model_id": "8ad0edec78d74f439245bba65d895433",
       "version_major": 2,
       "version_minor": 0
      },
      "text/plain": [
       "  0%|          | 0/20 [00:00<?, ?it/s]"
      ]
     },
     "metadata": {},
     "output_type": "display_data"
    },
    {
     "name": "stdout",
     "output_type": "stream",
     "text": [
      "data/Corona-Figueroa et al. - 2022 - MedNeRF Medical Neural Radiance Fields for Recons.json\n",
      "data/Fridovich-Keil et al. - 2022 - Plenoxels Radiance Fields without Neural Networks.json\n"
     ]
    },
    {
     "name": "stderr",
     "output_type": "stream",
     "text": [
      "No known latex representation for character: U+21E4 - ‘⇤’\n",
      "No known latex representation for character: U+21E5 - ‘⇥’\n",
      "No known latex representation for character: U+21E5 - ‘⇥’\n",
      "No known latex representation for character: U+E021 - ‘’\n",
      "No known latex representation for character: U+21E5 - ‘⇥’\n",
      "No known latex representation for character: U+21E5 - ‘⇥’\n",
      "No known latex representation for character: U+21E5 - ‘⇥’\n",
      "No known latex representation for character: U+21E5 - ‘⇥’\n",
      "No known latex representation for character: U+E021 - ‘’\n",
      "No known latex representation for character: U+E022 - ‘’\n",
      "No known latex representation for character: U+E022 - ‘’\n",
      "No known latex representation for character: U+E021 - ‘’\n",
      "No known latex representation for character: U+E022 - ‘’\n",
      "No known latex representation for character: U+E021 - ‘’\n",
      "No known latex representation for character: U+E022 - ‘’\n",
      "No known latex representation for character: U+E021 - ‘’\n",
      "No known latex representation for character: U+E021 - ‘’\n",
      "No known latex representation for character: U+E021 - ‘’\n",
      "No known latex representation for character: U+E021 - ‘’\n",
      "No known latex representation for character: U+E021 - ‘’\n",
      "No known latex representation for character: U+2713 - ‘✓’\n",
      "No known latex representation for character: U+E025 - ‘’\n",
      "No known latex representation for character: U+E021 - ‘’\n",
      "No known latex representation for character: U+E021 - ‘’\n",
      "No known latex representation for character: U+E021 - ‘’\n",
      "No known latex representation for character: U+E021 - ‘’\n",
      "No known latex representation for character: U+21E5 - ‘⇥’\n",
      "No known latex representation for character: U+21E5 - ‘⇥’\n",
      "No known latex representation for character: U+E021 - ‘’\n",
      "No known latex representation for character: U+E021 - ‘’\n",
      "No known latex representation for character: U+E023 - ‘’\n",
      "No known latex representation for character: U+E021 - ‘’\n"
     ]
    },
    {
     "name": "stdout",
     "output_type": "stream",
     "text": [
      "data/Ge et al. - 2022 - X-CTRSNet 3D cervical vertebra CT reconstruction .json\n",
      "data/Jiang et al. - 2021 - Reconstruction of 3D CT from A Single X-ray Projec.json\n",
      "data/Lin et al. - 2021 - BARF Bundle-Adjusting Neural Radiance Fields.json\n"
     ]
    },
    {
     "name": "stderr",
     "output_type": "stream",
     "text": [
      "No known latex representation for character: U+E03E - ‘’\n",
      "No known latex representation for character: U+E03E - ‘’\n",
      "No known latex representation for character: U+E030 - ‘’\n",
      "No known latex representation for character: U+E030 - ‘’\n",
      "No known latex representation for character: U+E030 - ‘’\n"
     ]
    },
    {
     "name": "stdout",
     "output_type": "stream",
     "text": [
      "data/Loyen et al. - 2023 - Patient-specific three-dimensional image reconstru.json\n"
     ]
    },
    {
     "name": "stderr",
     "output_type": "stream",
     "text": [
      "No known latex representation for character: U+FFFD - ‘�’\n",
      "No known latex representation for character: U+FFFD - ‘�’\n",
      "No known latex representation for character: U+FFFD - ‘�’\n"
     ]
    },
    {
     "name": "stdout",
     "output_type": "stream",
     "text": [
      "data/Mildenhall et al. - 2020 - NeRF Representing Scenes as Neural Radiance Field.json\n"
     ]
    },
    {
     "name": "stderr",
     "output_type": "stream",
     "text": [
      "No known latex representation for character: U+E030 - ‘’\n",
      "No known latex representation for character: U+E030 - ‘’\n",
      "No known latex representation for character: U+E00F - ‘’\n",
      "No known latex representation for character: U+E03E - ‘’\n",
      "No known latex representation for character: U+E030 - ‘’\n",
      "No known latex representation for character: U+E030 - ‘’\n",
      "No known latex representation for character: U+E030 - ‘’\n",
      "No known latex representation for character: U+E030 - ‘’\n",
      "No known latex representation for character: U+E030 - ‘’\n",
      "No known latex representation for character: U+E030 - ‘’\n",
      "No known latex representation for character: U+E03E - ‘’\n",
      "No known latex representation for character: U+E030 - ‘’\n",
      "No known latex representation for character: U+E030 - ‘’\n",
      "No known latex representation for character: U+E030 - ‘’\n",
      "No known latex representation for character: U+E030 - ‘’\n",
      "No known latex representation for character: U+E030 - ‘’\n",
      "No known latex representation for character: U+E030 - ‘’\n",
      "No known latex representation for character: U+E030 - ‘’\n",
      "No known latex representation for character: U+E030 - ‘’\n",
      "No known latex representation for character: U+E030 - ‘’\n",
      "No known latex representation for character: U+E030 - ‘’\n"
     ]
    },
    {
     "name": "stdout",
     "output_type": "stream",
     "text": [
      "data/Muller et al. - 2022 - Instant neural graphics primitives with a multires.json\n"
     ]
    },
    {
     "name": "stderr",
     "output_type": "stream",
     "text": [
      "No known latex representation for character: U+1D703 - ‘𝜃’\n",
      "No known latex representation for character: U+1D709 - ‘𝜉’\n",
      "No known latex representation for character: U+1D703 - ‘𝜃’\n",
      "No known latex representation for character: U+1D703 - ‘𝜃’\n",
      "No known latex representation for character: U+1D703 - ‘𝜃’\n",
      "No known latex representation for character: U+1D70B - ‘𝜋’\n",
      "No known latex representation for character: U+1D70B - ‘𝜋’\n",
      "No known latex representation for character: U+1D70B - ‘𝜋’\n",
      "No known latex representation for character: U+1D70B - ‘𝜋’\n",
      "No known latex representation for character: U+1D709 - ‘𝜉’\n",
      "No known latex representation for character: U+1D703 - ‘𝜃’\n",
      "No known latex representation for character: U+1D703 - ‘𝜃’\n",
      "No known latex representation for character: U+E000 - ‘’\n",
      "No known latex representation for character: U+E001 - ‘’\n",
      "No known latex representation for character: U+1D703 - ‘𝜃’\n",
      "No known latex representation for character: U+1D703 - ‘𝜃’\n",
      "No known latex representation for character: U+1D715 - ‘𝜕’\n",
      "No known latex representation for character: U+1D703 - ‘𝜃’\n",
      "No known latex representation for character: U+1D715 - ‘𝜕’\n",
      "No known latex representation for character: U+1D6FD - ‘𝛽’\n",
      "No known latex representation for character: U+1D6FD - ‘𝛽’\n",
      "No known latex representation for character: U+1D716 - ‘𝜖’\n",
      "No known latex representation for character: U+1D6FD - ‘𝛽’\n",
      "No known latex representation for character: U+1D6FD - ‘𝛽’\n",
      "No known latex representation for character: U+1D716 - ‘𝜖’\n",
      "No known latex representation for character: U+1D709 - ‘𝜉’\n",
      "No known latex representation for character: U+1D709 - ‘𝜉’\n",
      "No known latex representation for character: U+E000 - ‘’\n",
      "No known latex representation for character: U+1D703 - ‘𝜃’\n",
      "No known latex representation for character: U+E001 - ‘’\n",
      "No known latex representation for character: U+1D709 - ‘𝜉’\n",
      "No known latex representation for character: U+1D703 - ‘𝜃’\n",
      "No known latex representation for character: U+E000 - ‘’\n",
      "No known latex representation for character: U+E001 - ‘’\n",
      "No known latex representation for character: U+E002 - ‘’\n",
      "No known latex representation for character: U+E003 - ‘’\n",
      "No known latex representation for character: U+1D716 - ‘𝜖’\n"
     ]
    },
    {
     "name": "stdout",
     "output_type": "stream",
     "text": [
      "data/Ratul et al. - 2021 - CCX-rayNet A Class Conditioned Convolutional Neur.json\n"
     ]
    },
    {
     "name": "stderr",
     "output_type": "stream",
     "text": [
      "No known latex representation for character: U+E00C - ‘’\n"
     ]
    },
    {
     "name": "stdout",
     "output_type": "stream",
     "text": [
      "data/Shen et al. - 2019 - Harnessing the power of deep learning for volumetr.json\n",
      "data/Shen et al. - 2019 - Patient-specific reconstruction of volumetric comp.json\n"
     ]
    },
    {
     "name": "stderr",
     "output_type": "stream",
     "text": [
      "No known latex representation for character: U+E001 - ‘’\n",
      "No known latex representation for character: U+E001 - ‘’\n",
      "No known latex representation for character: U+E001 - ‘’\n"
     ]
    },
    {
     "name": "stdout",
     "output_type": "stream",
     "text": [
      "data/Shen et al. - 2022 - Novel-view X-ray projection synthesis through geom.json\n",
      "data/Sun et al. - 2022 - Direct Voxel Grid Optimization Super-fast Converg.json\n"
     ]
    },
    {
     "name": "stderr",
     "output_type": "stream",
     "text": [
      "No known latex representation for character: U+E071 - ‘’\n",
      "No known latex representation for character: U+E064 - ‘’\n",
      "No known latex representation for character: U+E06B - ‘’\n",
      "No known latex representation for character: U+E06B - ‘’\n",
      "No known latex representation for character: U+E065 - ‘’\n",
      "No known latex representation for character: U+E062 - ‘’\n",
      "No known latex representation for character: U+E063 - ‘’\n"
     ]
    },
    {
     "name": "stdout",
     "output_type": "stream",
     "text": [
      "data/Tan et al. - 2022 - XctNet Reconstruction network of volumetric image.json\n"
     ]
    },
    {
     "name": "stderr",
     "output_type": "stream",
     "text": [
      "No known latex representation for character: U+FF0C - ‘，’\n"
     ]
    },
    {
     "name": "stdout",
     "output_type": "stream",
     "text": [
      "data/Tan et al. - 2023 - Semi-XctNet Volumetric images reconstruction netw.json\n"
     ]
    },
    {
     "name": "stderr",
     "output_type": "stream",
     "text": [
      "No known latex representation for character: U+FF1A - ‘：’\n",
      "No known latex representation for character: U+FF0C - ‘，’\n"
     ]
    },
    {
     "name": "stdout",
     "output_type": "stream",
     "text": [
      "data/Tancik et al. - 2022 - Block-NeRF Scalable Large Scene Neural View Synth.json\n"
     ]
    },
    {
     "name": "stderr",
     "output_type": "stream",
     "text": [
      "No known latex representation for character: U+E021 - ‘’\n",
      "No known latex representation for character: U+E021 - ‘’\n",
      "No known latex representation for character: U+E021 - ‘’\n",
      "No known latex representation for character: U+E022 - ‘’\n",
      "No known latex representation for character: U+E022 - ‘’\n",
      "No known latex representation for character: U+21E5 - ‘⇥’\n",
      "No known latex representation for character: U+E022 - ‘’\n",
      "No known latex representation for character: U+E021 - ‘’\n",
      "No known latex representation for character: U+21E5 - ‘⇥’\n"
     ]
    },
    {
     "name": "stdout",
     "output_type": "stream",
     "text": [
      "data/Wang et al. - 2022 - Neural Rendering for Stereo 3D Reconstruction of D.json\n"
     ]
    },
    {
     "name": "stderr",
     "output_type": "stream",
     "text": [
      "No known latex representation for character: U+E06B - ‘’\n",
      "No known latex representation for character: U+E06B - ‘’\n",
      "No known latex representation for character: U+E062 - ‘’\n",
      "No known latex representation for character: U+E06B - ‘’\n",
      "No known latex representation for character: U+E06B - ‘’\n",
      "No known latex representation for character: U+E062 - ‘’\n",
      "No known latex representation for character: U+E062 - ‘’\n",
      "No known latex representation for character: U+E062 - ‘’\n",
      "No known latex representation for character: U+E062 - ‘’\n",
      "No known latex representation for character: U+E00F - ‘’\n",
      "No known latex representation for character: U+E062 - ‘’\n",
      "No known latex representation for character: U+E062 - ‘’\n"
     ]
    },
    {
     "name": "stdout",
     "output_type": "stream",
     "text": [
      "data/Yen-Chen et al. - 2021 - iNeRF Inverting Neural Radiance Fields for Pose E.json\n",
      "data/Ying et al. - 2019 - X2CT-GAN Reconstructing CT From Biplanar X-Rays W.json\n"
     ]
    },
    {
     "name": "stderr",
     "output_type": "stream",
     "text": [
      "No known latex representation for character: U+E001 - ‘’\n",
      "No known latex representation for character: U+E004 - ‘’\n",
      "No known latex representation for character: U+E002 - ‘’\n"
     ]
    },
    {
     "name": "stdout",
     "output_type": "stream",
     "text": [
      "data/Yu et al. - pixelNeRF Neural Radiance Fields From One or Few .json\n"
     ]
    },
    {
     "name": "stderr",
     "output_type": "stream",
     "text": [
      "No known latex representation for character: U+E020 - ‘’\n",
      "No known latex representation for character: U+E020 - ‘’\n",
      "No known latex representation for character: U+E001 - ‘’\n",
      "No known latex representation for character: U+E020 - ‘’\n",
      "No known latex representation for character: U+E020 - ‘’\n",
      "No known latex representation for character: U+E020 - ‘’\n",
      "No known latex representation for character: U+E020 - ‘’\n",
      "No known latex representation for character: U+E020 - ‘’\n",
      "No known latex representation for character: U+E020 - ‘’\n",
      "No known latex representation for character: U+E020 - ‘’\n",
      "No known latex representation for character: U+E020 - ‘’\n",
      "No known latex representation for character: U+E020 - ‘’\n",
      "No known latex representation for character: U+E020 - ‘’\n",
      "No known latex representation for character: U+E020 - ‘’\n",
      "No known latex representation for character: U+E020 - ‘’\n",
      "No known latex representation for character: U+E020 - ‘’\n",
      "No known latex representation for character: U+E020 - ‘’\n",
      "No known latex representation for character: U+E020 - ‘’\n",
      "No known latex representation for character: U+E020 - ‘’\n",
      "No known latex representation for character: U+E020 - ‘’\n",
      "No known latex representation for character: U+E020 - ‘’\n"
     ]
    }
   ],
   "source": [
    "for filename in tqdm(filenames):\n",
    "    extract_text_from_json(filename)"
   ]
  },
  {
   "cell_type": "code",
   "execution_count": null,
   "metadata": {},
   "outputs": [],
   "source": []
  }
 ],
 "metadata": {
  "kernelspec": {
   "display_name": "rsgpt",
   "language": "python",
   "name": "python3"
  },
  "language_info": {
   "codemirror_mode": {
    "name": "ipython",
    "version": 3
   },
   "file_extension": ".py",
   "mimetype": "text/x-python",
   "name": "python",
   "nbconvert_exporter": "python",
   "pygments_lexer": "ipython3",
   "version": "3.10.12"
  },
  "orig_nbformat": 4
 },
 "nbformat": 4,
 "nbformat_minor": 2
}
