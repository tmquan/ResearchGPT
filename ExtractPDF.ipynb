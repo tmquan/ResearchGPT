{
 "cells": [
  {
   "cell_type": "code",
   "execution_count": 1,
   "metadata": {},
   "outputs": [],
   "source": [
    "# ! pip install pdfservices-sdk -U"
   ]
  },
  {
   "cell_type": "code",
   "execution_count": 2,
   "metadata": {},
   "outputs": [
    {
     "data": {
      "text/plain": [
       "True"
      ]
     },
     "execution_count": 2,
     "metadata": {},
     "output_type": "execute_result"
    }
   ],
   "source": [
    "from dotenv import load_dotenv\n",
    "load_dotenv()"
   ]
  },
  {
   "cell_type": "code",
   "execution_count": 3,
   "metadata": {},
   "outputs": [],
   "source": [
    "import os\n",
    "import re\n",
    "\n",
    "import time \n",
    "import glob\n",
    "import json\n",
    "import shutil\n",
    "from tqdm.notebook import tqdm\n",
    "from zipfile import ZipFile\n"
   ]
  },
  {
   "cell_type": "code",
   "execution_count": 4,
   "metadata": {},
   "outputs": [],
   "source": [
    "from adobe.pdfservices.operation.auth.credentials import Credentials\n",
    "from adobe.pdfservices.operation.exception.exceptions import ServiceApiException, ServiceUsageException, SdkException\n",
    "from adobe.pdfservices.operation.pdfops.options.extractpdf.extract_pdf_options import ExtractPDFOptions\n",
    "from adobe.pdfservices.operation.pdfops.options.extractpdf.extract_element_type import ExtractElementType\n",
    "from adobe.pdfservices.operation.pdfops.options.extractpdf.extract_renditions_element_type import ExtractRenditionsElementType\n",
    "from adobe.pdfservices.operation.pdfops.options.extractpdf.table_structure_type import TableStructureType\n",
    "from adobe.pdfservices.operation.execution_context import ExecutionContext\n",
    "from adobe.pdfservices.operation.io.file_ref import FileRef\n",
    "from adobe.pdfservices.operation.pdfops.extract_pdf_operation import ExtractPDFOperation"
   ]
  },
  {
   "cell_type": "code",
   "execution_count": 5,
   "metadata": {},
   "outputs": [],
   "source": [
    "# Initial setup, create credentials instance.\n",
    "credentials = Credentials.service_principal_credentials_builder(). \\\n",
    "    with_client_id(os.getenv('PDF_SERVICES_CLIENT_ID')). \\\n",
    "    with_client_secret(os.getenv('PDF_SERVICES_CLIENT_SECRET')). \\\n",
    "    build()\n",
    "\n",
    "# Create an ExecutionContext using credentials and create a new operation instance.\n",
    "execution_context = ExecutionContext.create(credentials)\n",
    "extract_pdf_operation = ExtractPDFOperation.create_new()"
   ]
  },
  {
   "cell_type": "code",
   "execution_count": 6,
   "metadata": {},
   "outputs": [
    {
     "data": {
      "text/plain": [
       "['data/Corona-Figueroa et al. - 2022 - MedNeRF Medical Neural Radiance Fields for Recons.pdf',\n",
       " 'data/Fridovich-Keil et al. - 2022 - Plenoxels Radiance Fields without Neural Networks.pdf',\n",
       " 'data/Ge et al. - 2022 - X-CTRSNet 3D cervical vertebra CT reconstruction .pdf',\n",
       " 'data/Jiang et al. - 2021 - Reconstruction of 3D CT from A Single X-ray Projec.pdf',\n",
       " 'data/Lin et al. - 2021 - BARF Bundle-Adjusting Neural Radiance Fields.pdf',\n",
       " 'data/Loyen et al. - 2023 - Patient-specific three-dimensional image reconstru.pdf',\n",
       " 'data/Mildenhall et al. - 2020 - NeRF Representing Scenes as Neural Radiance Field.pdf',\n",
       " 'data/Muller et al. - 2022 - Instant neural graphics primitives with a multires.pdf',\n",
       " 'data/Ratul et al. - 2021 - CCX-rayNet A Class Conditioned Convolutional Neur.pdf',\n",
       " 'data/Shen et al. - 2019 - Harnessing the power of deep learning for volumetr.pdf',\n",
       " 'data/Shen et al. - 2019 - Patient-specific reconstruction of volumetric comp.pdf',\n",
       " 'data/Shen et al. - 2022 - Novel-view X-ray projection synthesis through geom.pdf',\n",
       " 'data/Sun et al. - 2022 - Direct Voxel Grid Optimization Super-fast Converg.pdf',\n",
       " 'data/Tan et al. - 2022 - XctNet Reconstruction network of volumetric image.pdf',\n",
       " 'data/Tan et al. - 2023 - Semi-XctNet Volumetric images reconstruction netw.pdf',\n",
       " 'data/Tancik et al. - 2022 - Block-NeRF Scalable Large Scene Neural View Synth.pdf',\n",
       " 'data/Wang et al. - 2022 - Neural Rendering for\\xa0Stereo 3D Reconstruction of\\xa0D.pdf',\n",
       " 'data/Yen-Chen et al. - 2021 - iNeRF Inverting Neural Radiance Fields for Pose E.pdf',\n",
       " 'data/Ying et al. - 2019 - X2CT-GAN Reconstructing CT From Biplanar X-Rays W.pdf',\n",
       " 'data/Yu et al. - 2021 - PlenOctrees for Real-time Rendering of Neural Radi.pdf',\n",
       " 'data/Yu et al. - pixelNeRF Neural Radiance Fields From One or Few .pdf']"
      ]
     },
     "metadata": {},
     "output_type": "display_data"
    },
    {
     "data": {
      "text/plain": [
       "21"
      ]
     },
     "metadata": {},
     "output_type": "display_data"
    }
   ],
   "source": [
    "# Filter protocol only pdf\n",
    "datadir = \"data\"\n",
    "filenames = sorted(glob.glob(os.path.join(datadir, r\"*.pdf\")))\n",
    "display(filenames)\n",
    "display(len(filenames))"
   ]
  },
  {
   "cell_type": "code",
   "execution_count": 7,
   "metadata": {},
   "outputs": [],
   "source": [
    "def extract_text_from_pdf(filename):\n",
    "    try:\n",
    "        print(filename)\n",
    "        time.sleep(1)\n",
    "        # Set operation input from a source file.\n",
    "        source = FileRef.create_from_local_file(filename)\n",
    "        extract_pdf_operation.set_input(source)\n",
    "\n",
    "        extract_pdf_options: ExtractPDFOptions = ExtractPDFOptions.builder() \\\n",
    "            .with_element_to_extract(ExtractElementType.TEXT) \\\n",
    "            .build()\n",
    "        extract_pdf_operation.set_options(extract_pdf_options)\n",
    "\n",
    "        # Execute the operation.\n",
    "        result: FileRef = extract_pdf_operation.execute(execution_context)\n",
    "\n",
    "        # Save the result to the specified location.\n",
    "        result.save_as(filename.replace(\".pdf\", \".zip\"))\n",
    "\n",
    "        with ZipFile(filename.replace(\".pdf\", \".zip\"), 'r') as f:\n",
    "            f.extractall( os.getcwd() )\n",
    "            \n",
    "        # Move structuredData.json to pdf/filename.json\n",
    "        shutil.move('structuredData.json', filename.replace(\".pdf\", \".json\"))\n",
    "    except Exception as e:\n",
    "        print(e)"
   ]
  },
  {
   "cell_type": "code",
   "execution_count": 8,
   "metadata": {},
   "outputs": [
    {
     "data": {
      "application/vnd.jupyter.widget-view+json": {
       "model_id": "066cdf75a69940858e0c043cf6040cdc",
       "version_major": 2,
       "version_minor": 0
      },
      "text/plain": [
       "  0%|          | 0/21 [00:00<?, ?it/s]"
      ]
     },
     "metadata": {},
     "output_type": "display_data"
    },
    {
     "name": "stdout",
     "output_type": "stream",
     "text": [
      "data/Corona-Figueroa et al. - 2022 - MedNeRF Medical Neural Radiance Fields for Recons.pdf\n",
      "data/Fridovich-Keil et al. - 2022 - Plenoxels Radiance Fields without Neural Networks.pdf\n",
      "data/Ge et al. - 2022 - X-CTRSNet 3D cervical vertebra CT reconstruction .pdf\n",
      "data/Jiang et al. - 2021 - Reconstruction of 3D CT from A Single X-ray Projec.pdf\n",
      "data/Lin et al. - 2021 - BARF Bundle-Adjusting Neural Radiance Fields.pdf\n",
      "data/Loyen et al. - 2023 - Patient-specific three-dimensional image reconstru.pdf\n",
      "data/Mildenhall et al. - 2020 - NeRF Representing Scenes as Neural Radiance Field.pdf\n",
      "data/Muller et al. - 2022 - Instant neural graphics primitives with a multires.pdf\n",
      "data/Ratul et al. - 2021 - CCX-rayNet A Class Conditioned Convolutional Neur.pdf\n",
      "data/Shen et al. - 2019 - Harnessing the power of deep learning for volumetr.pdf\n",
      "data/Shen et al. - 2019 - Patient-specific reconstruction of volumetric comp.pdf\n",
      "data/Shen et al. - 2022 - Novel-view X-ray projection synthesis through geom.pdf\n",
      "data/Sun et al. - 2022 - Direct Voxel Grid Optimization Super-fast Converg.pdf\n",
      "data/Tan et al. - 2022 - XctNet Reconstruction network of volumetric image.pdf\n",
      "data/Tan et al. - 2023 - Semi-XctNet Volumetric images reconstruction netw.pdf\n",
      "data/Tancik et al. - 2022 - Block-NeRF Scalable Large Scene Neural View Synth.pdf\n",
      "data/Wang et al. - 2022 - Neural Rendering for Stereo 3D Reconstruction of D.pdf\n",
      "data/Yen-Chen et al. - 2021 - iNeRF Inverting Neural Radiance Fields for Pose E.pdf\n",
      "data/Ying et al. - 2019 - X2CT-GAN Reconstructing CT From Biplanar X-Rays W.pdf\n",
      "data/Yu et al. - 2021 - PlenOctrees for Real-time Rendering of Neural Radi.pdf\n",
      "description =BAD_PDF - Unable to extract content.; requestTrackingId=fd55df8f-3a79-4a80-afba-75596dc58945; statusCode=400; errorCode=BAD_PDF\n",
      "data/Yu et al. - pixelNeRF Neural Radiance Fields From One or Few .pdf\n"
     ]
    }
   ],
   "source": [
    "for filename in tqdm(filenames):\n",
    "    extract_text_from_pdf(filename)"
   ]
  },
  {
   "cell_type": "code",
   "execution_count": 9,
   "metadata": {},
   "outputs": [
    {
     "data": {
      "text/plain": [
       "['data/Corona-Figueroa et al. - 2022 - MedNeRF Medical Neural Radiance Fields for Recons.json',\n",
       " 'data/Fridovich-Keil et al. - 2022 - Plenoxels Radiance Fields without Neural Networks.json',\n",
       " 'data/Ge et al. - 2022 - X-CTRSNet 3D cervical vertebra CT reconstruction .json',\n",
       " 'data/Jiang et al. - 2021 - Reconstruction of 3D CT from A Single X-ray Projec.json',\n",
       " 'data/Lin et al. - 2021 - BARF Bundle-Adjusting Neural Radiance Fields.json',\n",
       " 'data/Loyen et al. - 2023 - Patient-specific three-dimensional image reconstru.json',\n",
       " 'data/Mildenhall et al. - 2020 - NeRF Representing Scenes as Neural Radiance Field.json',\n",
       " 'data/Muller et al. - 2022 - Instant neural graphics primitives with a multires.json',\n",
       " 'data/Ratul et al. - 2021 - CCX-rayNet A Class Conditioned Convolutional Neur.json',\n",
       " 'data/Shen et al. - 2019 - Harnessing the power of deep learning for volumetr.json',\n",
       " 'data/Shen et al. - 2019 - Patient-specific reconstruction of volumetric comp.json',\n",
       " 'data/Shen et al. - 2022 - Novel-view X-ray projection synthesis through geom.json',\n",
       " 'data/Sun et al. - 2022 - Direct Voxel Grid Optimization Super-fast Converg.json',\n",
       " 'data/Tan et al. - 2022 - XctNet Reconstruction network of volumetric image.json',\n",
       " 'data/Tan et al. - 2023 - Semi-XctNet Volumetric images reconstruction netw.json',\n",
       " 'data/Tancik et al. - 2022 - Block-NeRF Scalable Large Scene Neural View Synth.json',\n",
       " 'data/Wang et al. - 2022 - Neural Rendering for\\xa0Stereo 3D Reconstruction of\\xa0D.json',\n",
       " 'data/Yen-Chen et al. - 2021 - iNeRF Inverting Neural Radiance Fields for Pose E.json',\n",
       " 'data/Ying et al. - 2019 - X2CT-GAN Reconstructing CT From Biplanar X-Rays W.json',\n",
       " 'data/Yu et al. - pixelNeRF Neural Radiance Fields From One or Few .json']"
      ]
     },
     "metadata": {},
     "output_type": "display_data"
    },
    {
     "data": {
      "text/plain": [
       "20"
      ]
     },
     "metadata": {},
     "output_type": "display_data"
    }
   ],
   "source": [
    "# Filter json\n",
    "datadir = \"data\"\n",
    "filenames = sorted(glob.glob(os.path.join(datadir, r\"*.json\")))\n",
    "display(filenames)\n",
    "display(len(filenames))"
   ]
  },
  {
   "cell_type": "code",
   "execution_count": 10,
   "metadata": {},
   "outputs": [],
   "source": [
    "# Title, images, headers, paragraphs, lists, tables\n",
    "# JSON, PNG, CSV"
   ]
  },
  {
   "cell_type": "code",
   "execution_count": 29,
   "metadata": {},
   "outputs": [],
   "source": [
    "def extract_text_from_json(filename):\n",
    "    try:\n",
    "        print(filename)\n",
    "        time.sleep(1)\n",
    "        \"\"\"Extracts the text from an Adobe JSON file and concatenates it.\n",
    "\n",
    "        Args:\n",
    "            adobe_json (str): The path to the Adobe JSON file.\n",
    "\n",
    "        Returns:\n",
    "            str: The concatenated text.\n",
    "        \"\"\"\n",
    "\n",
    "        with open(filename, \"r\") as f:\n",
    "            data = json.load(f)\n",
    "\n",
    "        texts = []\n",
    "        for item in data[\"elements\"]:\n",
    "            # print(item)\n",
    "            if item[\"Path\"].startswith(\"//Document/Title\"):\n",
    "                texts.append(item[\"Text\"]+\"\\n\")\n",
    "            elif item[\"Path\"].startswith(\"//Document/H\"):\n",
    "                texts.append(item[\"Text\"]+\"\\n\")\n",
    "            elif item[\"Path\"].startswith(\"//Document/P\"):\n",
    "                pass\n",
    "                # paragraph_text = []\n",
    "                # # for paragraph_span in item[\"ParagraphSpan\"]:\n",
    "                # # paragraph_text.append(paragraph_span[\"Text\"])\n",
    "                # paragraph_text.append(item[\"Text\"])\n",
    "                # texts.append(\" \".join(paragraph_text))\n",
    "                # texts.append(item[\"Text\"]+\"\\n\")\n",
    "\n",
    "        text = \"\\n\".join(texts)\n",
    "        text = \"\".join(c for c in text if ord(c) < 128)\n",
    "        \n",
    "        with open(filename.replace(\".json\", \".txt\"), \"w\") as f:\n",
    "            f.write(text)\n",
    "    except Exception as e:\n",
    "        print(e)"
   ]
  },
  {
   "cell_type": "code",
   "execution_count": 30,
   "metadata": {},
   "outputs": [
    {
     "data": {
      "application/vnd.jupyter.widget-view+json": {
       "model_id": "634be9fd380245c19ecf1869a3f80870",
       "version_major": 2,
       "version_minor": 0
      },
      "text/plain": [
       "  0%|          | 0/1 [00:00<?, ?it/s]"
      ]
     },
     "metadata": {},
     "output_type": "display_data"
    },
    {
     "name": "stdout",
     "output_type": "stream",
     "text": [
      "data/Fridovich-Keil et al. - 2022 - Plenoxels Radiance Fields without Neural Networks.json\n"
     ]
    }
   ],
   "source": [
    "for filename in tqdm(filenames[1:2]):\n",
    "    extract_text_from_json(filename)"
   ]
  },
  {
   "cell_type": "code",
   "execution_count": null,
   "metadata": {},
   "outputs": [],
   "source": []
  }
 ],
 "metadata": {
  "kernelspec": {
   "display_name": "rsgpt",
   "language": "python",
   "name": "python3"
  },
  "language_info": {
   "codemirror_mode": {
    "name": "ipython",
    "version": 3
   },
   "file_extension": ".py",
   "mimetype": "text/x-python",
   "name": "python",
   "nbconvert_exporter": "python",
   "pygments_lexer": "ipython3",
   "version": "3.10.12"
  },
  "orig_nbformat": 4
 },
 "nbformat": 4,
 "nbformat_minor": 2
}
