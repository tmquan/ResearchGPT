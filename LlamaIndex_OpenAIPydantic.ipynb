{
 "cells": [
  {
   "cell_type": "code",
   "execution_count": null,
   "metadata": {},
   "outputs": [],
   "source": [
    "import os\n",
    "import glob\n",
    "import pandas as pd \n",
    "from dotenv import load_dotenv\n",
    "load_dotenv()\n",
    "OPENAI_API_KEY = os.getenv(\"OPENAI_API_KEY\")\n",
    "\n",
    "from pprint import pprint\n",
    "from natsort import natsorted\n",
    "from llama_index import Document\n",
    "\n",
    "file_name = #\n",
    "text_list = natsorted(glob.glob(file_name))\n",
    "documents = [Document(text=t) for t in text_list]\n",
    "display(documents)"
   ]
  },
  {
   "cell_type": "code",
   "execution_count": null,
   "metadata": {},
   "outputs": [],
   "source": [
    "df = #\n",
    "df.fillna(\"null\")\n",
    "df"
   ]
  },
  {
   "cell_type": "code",
   "execution_count": null,
   "metadata": {},
   "outputs": [],
   "source": [
    "# Open the file in read mode ('r')\n",
    "with open(file_name, 'r') as file:\n",
    "    # Read the entire file contents into a string\n",
    "    source_document = file.read()\n",
    "# pprint(source_document)\n",
    "\n",
    "question_choice = str(df)\n",
    "pprint(question_choice)"
   ]
  },
  {
   "cell_type": "code",
   "execution_count": null,
   "metadata": {},
   "outputs": [],
   "source": [
    "from pydantic import BaseModel\n",
    "from typing import List, Union\n",
    "\n",
    "class Record(BaseModel):\n",
    "    \"\"\"Question\"\"\"\n",
    "    # note: Union[str, None]\n",
    "    question: Union[str, None]\n",
    "    choices: Union[List, None]\n",
    "    raw_answer: Union[str, None]\n",
    "    answer: Union[List, str, None]\n",
    "    # offset: Union[str, None]\n",
    "    \n",
    "class RecordList(BaseModel):\n",
    "    \"\"\"Question List\"\"\"\n",
    "    records: List[Record]"
   ]
  },
  {
   "cell_type": "code",
   "execution_count": null,
   "metadata": {},
   "outputs": [],
   "source": [
    "import openai\n",
    "openai.api_key = OPENAI_API_KEY\n",
    "\n",
    "from llama_index.program import OpenAIPydanticProgram"
   ]
  },
  {
   "cell_type": "code",
   "execution_count": null,
   "metadata": {},
   "outputs": [],
   "source": [
    "prompt_template_str = \\\n",
    "\"\"\"\n",
    "Given the source document in {source_document}, \n",
    "and the question list with choices in {question_choice}. \n",
    "Parse the question list into question content and choices. \n",
    "If choices is null, mark the choices result is `null` and answer as raw text concretely. \n",
    "\n",
    "Answer each question in the list iff the choices is further given \n",
    "right after a particular question and not null, nor None, nor NaN \n",
    "then choose one of the options in choices as the answer. \n",
    "You need extra deep domain knowledge in that question. \n",
    "\n",
    "If you dont know the answer, reply `N/A`\n",
    "\"\"\"\n",
    "program = OpenAIPydanticProgram.from_defaults(\n",
    "    output_cls=RecordList,\n",
    "    prompt_template_str=prompt_template_str,\n",
    "    verbose=True,\n",
    ")\n",
    "\n",
    "output = program(\n",
    "    source_document = source_document, \n",
    "    question_choice = question_choice,\n",
    ")"
   ]
  },
  {
   "cell_type": "code",
   "execution_count": null,
   "metadata": {},
   "outputs": [],
   "source": []
  },
  {
   "cell_type": "code",
   "execution_count": null,
   "metadata": {},
   "outputs": [],
   "source": [
    "# from llama_index.program import GuidancePydanticProgram\n",
    "# from guidance.llms import OpenAI\n",
    "\n",
    "# prompt_template_str = \\\n",
    "# \"\"\"\\\n",
    "# Given the source document in {source_document}, \n",
    "# and the question list with choices in {question_choice}. \n",
    "# Parse the question list into question content and choices. \n",
    "# If choices is null, mark the choices result is `null` and answer as raw text concretely. \n",
    "\n",
    "# Answer each question in the list iff the choices is further given \n",
    "# right after a particular question and not null, nor None, nor NaN \n",
    "# then choose one of the options in choices as the answer. \n",
    "# You need extra deep domain knowledge in that question. \n",
    "\n",
    "# If you dont know the answer, reply `N/A`\n",
    "# \"\"\"\n",
    "# program = GuidancePydanticProgram.from_defaults(\n",
    "#     output_cls=RecordList,\n",
    "#     prompt_template_str=prompt_template_str,\n",
    "#     verbose=True,\n",
    "# )\n",
    "\n",
    "# output = program(\n",
    "#     source_document = source_document, \n",
    "#     question_choice = question_choice,\n",
    "# )"
   ]
  },
  {
   "cell_type": "code",
   "execution_count": null,
   "metadata": {},
   "outputs": [],
   "source": []
  }
 ],
 "metadata": {
  "kernelspec": {
   "display_name": "rsgpt",
   "language": "python",
   "name": "python3"
  },
  "language_info": {
   "codemirror_mode": {
    "name": "ipython",
    "version": 3
   },
   "file_extension": ".py",
   "mimetype": "text/x-python",
   "name": "python",
   "nbconvert_exporter": "python",
   "pygments_lexer": "ipython3",
   "version": "3.10.12"
  },
  "orig_nbformat": 4
 },
 "nbformat": 4,
 "nbformat_minor": 2
}
